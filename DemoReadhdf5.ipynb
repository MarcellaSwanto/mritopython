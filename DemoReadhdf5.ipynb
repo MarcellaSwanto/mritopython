{
 "cells": [
  {
   "cell_type": "code",
   "execution_count": 96,
   "metadata": {},
   "outputs": [],
   "source": [
    "import h5py\n",
    "import numpy\n",
    "import matplotlib.pyplot as plt\n",
    "import matplotlib.image as mpimg"
   ]
  },
  {
   "cell_type": "code",
   "execution_count": 97,
   "metadata": {},
   "outputs": [
    {
     "data": {
      "text/plain": [
       "{'__name__': 'builtins',\n",
       " '__doc__': \"Built-in functions, exceptions, and other objects.\\n\\nNoteworthy: None is the `nil' object; Ellipsis represents `...' in slices.\",\n",
       " '__package__': '',\n",
       " '__loader__': _frozen_importlib.BuiltinImporter,\n",
       " '__spec__': ModuleSpec(name='builtins', loader=<class '_frozen_importlib.BuiltinImporter'>),\n",
       " '__build_class__': <function __build_class__>,\n",
       " '__import__': <function __import__>,\n",
       " 'abs': <function abs(x, /)>,\n",
       " 'all': <function all(iterable, /)>,\n",
       " 'any': <function any(iterable, /)>,\n",
       " 'ascii': <function ascii(obj, /)>,\n",
       " 'bin': <function bin(number, /)>,\n",
       " 'breakpoint': <function breakpoint>,\n",
       " 'callable': <function callable(obj, /)>,\n",
       " 'chr': <function chr(i, /)>,\n",
       " 'compile': <function compile(source, filename, mode, flags=0, dont_inherit=False, optimize=-1)>,\n",
       " 'delattr': <function delattr(obj, name, /)>,\n",
       " 'dir': <function dir>,\n",
       " 'divmod': <function divmod(x, y, /)>,\n",
       " 'eval': <function eval(source, globals=None, locals=None, /)>,\n",
       " 'exec': <function exec(source, globals=None, locals=None, /)>,\n",
       " 'format': <function format(value, format_spec='', /)>,\n",
       " 'getattr': <function getattr>,\n",
       " 'globals': <function globals()>,\n",
       " 'hasattr': <function hasattr(obj, name, /)>,\n",
       " 'hash': <function hash(obj, /)>,\n",
       " 'hex': <function hex(number, /)>,\n",
       " 'id': <function id(obj, /)>,\n",
       " 'input': <bound method Kernel.raw_input of <ipykernel.ipkernel.IPythonKernel object at 0x1101d8550>>,\n",
       " 'isinstance': <function isinstance(obj, class_or_tuple, /)>,\n",
       " 'issubclass': <function issubclass(cls, class_or_tuple, /)>,\n",
       " 'iter': <function iter>,\n",
       " 'len': <function len(obj, /)>,\n",
       " 'locals': <function locals()>,\n",
       " 'max': <function max>,\n",
       " 'min': <function min>,\n",
       " 'next': <function next>,\n",
       " 'oct': <function oct(number, /)>,\n",
       " 'ord': <function ord(c, /)>,\n",
       " 'pow': <function pow(x, y, z=None, /)>,\n",
       " 'print': <function print>,\n",
       " 'repr': <function repr(obj, /)>,\n",
       " 'round': <function round(number, ndigits=None)>,\n",
       " 'setattr': <function setattr(obj, name, value, /)>,\n",
       " 'sorted': <function sorted(iterable, /, *, key=None, reverse=False)>,\n",
       " 'sum': <function sum(iterable, start=0, /)>,\n",
       " 'vars': <function vars>,\n",
       " 'None': None,\n",
       " 'Ellipsis': Ellipsis,\n",
       " 'NotImplemented': NotImplemented,\n",
       " 'False': False,\n",
       " 'True': True,\n",
       " 'bool': bool,\n",
       " 'memoryview': memoryview,\n",
       " 'bytearray': bytearray,\n",
       " 'bytes': bytes,\n",
       " 'classmethod': classmethod,\n",
       " 'complex': complex,\n",
       " 'dict': dict,\n",
       " 'enumerate': enumerate,\n",
       " 'filter': filter,\n",
       " 'float': float,\n",
       " 'frozenset': frozenset,\n",
       " 'property': property,\n",
       " 'int': int,\n",
       " 'list': list,\n",
       " 'map': map,\n",
       " 'object': object,\n",
       " 'range': range,\n",
       " 'reversed': reversed,\n",
       " 'set': set,\n",
       " 'slice': slice,\n",
       " 'staticmethod': staticmethod,\n",
       " 'str': str,\n",
       " 'super': super,\n",
       " 'tuple': tuple,\n",
       " 'type': type,\n",
       " 'zip': zip,\n",
       " '__debug__': True,\n",
       " 'BaseException': BaseException,\n",
       " 'Exception': Exception,\n",
       " 'TypeError': TypeError,\n",
       " 'StopAsyncIteration': StopAsyncIteration,\n",
       " 'StopIteration': StopIteration,\n",
       " 'GeneratorExit': GeneratorExit,\n",
       " 'SystemExit': SystemExit,\n",
       " 'KeyboardInterrupt': KeyboardInterrupt,\n",
       " 'ImportError': ImportError,\n",
       " 'ModuleNotFoundError': ModuleNotFoundError,\n",
       " 'OSError': OSError,\n",
       " 'EnvironmentError': OSError,\n",
       " 'IOError': OSError,\n",
       " 'EOFError': EOFError,\n",
       " 'RuntimeError': RuntimeError,\n",
       " 'RecursionError': RecursionError,\n",
       " 'NotImplementedError': NotImplementedError,\n",
       " 'NameError': NameError,\n",
       " 'UnboundLocalError': UnboundLocalError,\n",
       " 'AttributeError': AttributeError,\n",
       " 'SyntaxError': SyntaxError,\n",
       " 'IndentationError': IndentationError,\n",
       " 'TabError': TabError,\n",
       " 'LookupError': LookupError,\n",
       " 'IndexError': IndexError,\n",
       " 'KeyError': KeyError,\n",
       " 'ValueError': ValueError,\n",
       " 'UnicodeError': UnicodeError,\n",
       " 'UnicodeEncodeError': UnicodeEncodeError,\n",
       " 'UnicodeDecodeError': UnicodeDecodeError,\n",
       " 'UnicodeTranslateError': UnicodeTranslateError,\n",
       " 'AssertionError': AssertionError,\n",
       " 'ArithmeticError': ArithmeticError,\n",
       " 'FloatingPointError': FloatingPointError,\n",
       " 'OverflowError': OverflowError,\n",
       " 'ZeroDivisionError': ZeroDivisionError,\n",
       " 'SystemError': SystemError,\n",
       " 'ReferenceError': ReferenceError,\n",
       " 'MemoryError': MemoryError,\n",
       " 'BufferError': BufferError,\n",
       " 'Warning': Warning,\n",
       " 'UserWarning': UserWarning,\n",
       " 'DeprecationWarning': DeprecationWarning,\n",
       " 'PendingDeprecationWarning': PendingDeprecationWarning,\n",
       " 'SyntaxWarning': SyntaxWarning,\n",
       " 'RuntimeWarning': RuntimeWarning,\n",
       " 'FutureWarning': FutureWarning,\n",
       " 'ImportWarning': ImportWarning,\n",
       " 'UnicodeWarning': UnicodeWarning,\n",
       " 'BytesWarning': BytesWarning,\n",
       " 'ResourceWarning': ResourceWarning,\n",
       " 'ConnectionError': ConnectionError,\n",
       " 'BlockingIOError': BlockingIOError,\n",
       " 'BrokenPipeError': BrokenPipeError,\n",
       " 'ChildProcessError': ChildProcessError,\n",
       " 'ConnectionAbortedError': ConnectionAbortedError,\n",
       " 'ConnectionRefusedError': ConnectionRefusedError,\n",
       " 'ConnectionResetError': ConnectionResetError,\n",
       " 'FileExistsError': FileExistsError,\n",
       " 'FileNotFoundError': FileNotFoundError,\n",
       " 'IsADirectoryError': IsADirectoryError,\n",
       " 'NotADirectoryError': NotADirectoryError,\n",
       " 'InterruptedError': InterruptedError,\n",
       " 'PermissionError': PermissionError,\n",
       " 'ProcessLookupError': ProcessLookupError,\n",
       " 'TimeoutError': TimeoutError,\n",
       " 'open': <function io.open(file, mode='r', buffering=-1, encoding=None, errors=None, newline=None, closefd=True, opener=None)>,\n",
       " 'copyright': Copyright (c) 2001-2018 Python Software Foundation.\n",
       " All Rights Reserved.\n",
       " \n",
       " Copyright (c) 2000 BeOpen.com.\n",
       " All Rights Reserved.\n",
       " \n",
       " Copyright (c) 1995-2001 Corporation for National Research Initiatives.\n",
       " All Rights Reserved.\n",
       " \n",
       " Copyright (c) 1991-1995 Stichting Mathematisch Centrum, Amsterdam.\n",
       " All Rights Reserved.,\n",
       " 'credits':     Thanks to CWI, CNRI, BeOpen.com, Zope Corporation and a cast of thousands\n",
       "     for supporting Python development.  See www.python.org for more information.,\n",
       " 'license': Type license() to see the full license text,\n",
       " 'help': Type help() for interactive help, or help(object) for help about object.,\n",
       " '__IPYTHON__': True,\n",
       " 'display': <function IPython.core.display.display(*objs, include=None, exclude=None, metadata=None, transient=None, display_id=None, **kwargs)>,\n",
       " 'get_ipython': <bound method InteractiveShell.get_ipython of <ipykernel.zmqshell.ZMQInteractiveShell object at 0x1101d86a0>>}"
      ]
     },
     "execution_count": 97,
     "metadata": {},
     "output_type": "execute_result"
    }
   ],
   "source": [
    "h5py.__builtins__  # Just seeing if this works; not required in real code"
   ]
  },
  {
   "cell_type": "code",
   "execution_count": 98,
   "metadata": {},
   "outputs": [],
   "source": [
    "f = h5py.File('myfile.h5', 'r') # Open the file for reading"
   ]
  },
  {
   "cell_type": "code",
   "execution_count": 99,
   "metadata": {},
   "outputs": [
    {
     "data": {
      "text/plain": [
       "['Rho', 'T1', 'T2']"
      ]
     },
     "execution_count": 99,
     "metadata": {},
     "output_type": "execute_result"
    }
   ],
   "source": [
    "list(f.keys())  # This should show us what datasets are stored in the file"
   ]
  },
  {
   "cell_type": "code",
   "execution_count": 100,
   "metadata": {},
   "outputs": [
    {
     "data": {
      "text/plain": [
       "(90, 90, 108)"
      ]
     },
     "execution_count": 100,
     "metadata": {},
     "output_type": "execute_result"
    }
   ],
   "source": [
    "f['Rho'].shape # This is a test to see if shape is right....Note it is different to Matlab!"
   ]
  },
  {
   "cell_type": "code",
   "execution_count": 101,
   "metadata": {},
   "outputs": [],
   "source": [
    "Rho = f['Rho'][:] # Cool, no? This gets the data from the file for Rho"
   ]
  },
  {
   "cell_type": "code",
   "execution_count": 102,
   "metadata": {},
   "outputs": [
    {
     "data": {
      "text/plain": [
       "numpy.ndarray"
      ]
     },
     "execution_count": 102,
     "metadata": {},
     "output_type": "execute_result"
    }
   ],
   "source": [
    "type(Rho) # I am learning how to use Python still"
   ]
  },
  {
   "cell_type": "code",
   "execution_count": 103,
   "metadata": {},
   "outputs": [],
   "source": [
    "Rho_img=Rho[:,:,50] # This gets one slice"
   ]
  },
  {
   "cell_type": "code",
   "execution_count": 104,
   "metadata": {},
   "outputs": [
    {
     "data": {
      "text/plain": [
       "array([[0.        , 0.        , 0.        , ..., 0.        , 0.        ,\n",
       "        0.        ],\n",
       "       [0.        , 0.        , 0.        , ..., 0.        , 0.        ,\n",
       "        0.        ],\n",
       "       [0.        , 0.        , 0.        , ..., 0.        , 0.        ,\n",
       "        0.        ],\n",
       "       ...,\n",
       "       [0.6       , 0.7005618 , 0.35029031, ..., 0.75      , 0.74157303,\n",
       "        0.72603696],\n",
       "       [0.6       , 0.7005618 , 0.01685393, ..., 0.75      , 0.34652946,\n",
       "        0.75      ],\n",
       "       [0.6       , 0.7005618 , 0.01685393, ..., 0.74940145, 0.        ,\n",
       "        0.75      ]])"
      ]
     },
     "execution_count": 104,
     "metadata": {},
     "output_type": "execute_result"
    }
   ],
   "source": [
    "Rho_img # Just looking at the contents"
   ]
  },
  {
   "cell_type": "code",
   "execution_count": 89,
   "metadata": {},
   "outputs": [
    {
     "data": {
      "text/plain": [
       "<matplotlib.image.AxesImage at 0x1226bec18>"
      ]
     },
     "execution_count": 89,
     "metadata": {},
     "output_type": "execute_result"
    },
    {
     "data": {
      "image/png": "[encoded data removed]",
      "text/plain": [
       "<Figure size 432x288 with 1 Axes>"
      ]
     },
     "metadata": {
      "needs_background": "light"
     },
     "output_type": "display_data"
    }
   ],
   "source": [
    "plt.imshow(Rho_img) # Does not always show immediately in notebooks"
   ]
  },
  {
   "cell_type": "code",
   "execution_count": 90,
   "metadata": {},
   "outputs": [],
   "source": [
    "T2 = f['T2'] # It seems we don't need that [:] thing...."
   ]
  },
  {
   "cell_type": "code",
   "execution_count": 91,
   "metadata": {},
   "outputs": [],
   "source": [
    "T2_img = T2[:,:,50]"
   ]
  },
  {
   "cell_type": "code",
   "execution_count": 95,
   "metadata": {},
   "outputs": [
    {
     "data": {
      "text/plain": [
       "<matplotlib.image.AxesImage at 0x122a5c668>"
      ]
     },
     "execution_count": 95,
     "metadata": {},
     "output_type": "execute_result"
    },
    {
     "data": {
      "image/png": "[encoded data removed]",
      "text/plain": [
       "<Figure size 432x288 with 1 Axes>"
      ]
     },
     "metadata": {
      "needs_background": "light"
     },
     "output_type": "display_data"
    }
   ],
   "source": [
    "plt.imshow(T1_img) # Maybe compare with Matlab, to make sure all Ok..."
   ]
  },
  {
   "cell_type": "code",
   "execution_count": null,
   "metadata": {},
   "outputs": [],
   "source": []
  }
 ],
 "metadata": {
  "kernelspec": {
   "display_name": "Python 3",
   "language": "python",
   "name": "python3"
  },
  "language_info": {
   "codemirror_mode": {
    "name": "ipython",
    "version": 3
   },
   "file_extension": ".py",
   "mimetype": "text/x-python",
   "name": "python",
   "nbconvert_exporter": "python",
   "pygments_lexer": "ipython3",
   "version": "3.7.1"
  }
 },
 "nbformat": 4,
 "nbformat_minor": 2
}
